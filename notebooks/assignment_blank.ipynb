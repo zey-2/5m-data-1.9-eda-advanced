{
 "cells": [
  {
   "cell_type": "markdown",
   "id": "6af0beb1",
   "metadata": {},
   "source": [
    "# Assignment\n",
    "## Brief\n",
    "Write the Python codes for the following questions.\n",
    "## Instructions\n",
    "Paste the answer as Python in the answer code section below each question."
   ]
  },
  {
   "cell_type": "markdown",
   "id": "ae125b72",
   "metadata": {},
   "source": [
    "### Question 1\n",
    "Question: Calculate the correlation between 'MSFT' and 'IBM' returns from a DataFrame of stock returns."
   ]
  },
  {
   "cell_type": "code",
   "execution_count": null,
   "id": "e7cd3ec5",
   "metadata": {},
   "outputs": [],
   "source": [
    "import pandas as pd\n",
    "\n",
    "# Assuming 'returns' is a DataFrame containing stock returns\n",
    "returns = pd.DataFrame({\n",
    "    'MSFT': [0.05, 0.07, -0.01],\n",
    "    'IBM': [0.04, 0.02, 0.03]\n",
    "})"
   ]
  },
  {
   "cell_type": "code",
   "execution_count": null,
   "id": "dc8afe82",
   "metadata": {},
   "outputs": [],
   "source": [
    "# Answer:"
   ]
  },
  {
   "cell_type": "markdown",
   "id": "36ae03b2",
   "metadata": {},
   "source": [
    "### Question 2\n",
    "Question: Convert the columns `B` and `C` from wide to long format."
   ]
  },
  {
   "cell_type": "code",
   "execution_count": null,
   "id": "39c936e4",
   "metadata": {},
   "outputs": [],
   "source": [
    "import pandas as pd\n",
    "\n",
    "df = pd.DataFrame({\n",
    "'A': {0: 'a', 1: 'b', 2: 'c'},\n",
    "'B': {0: 1, 1: 3, 2: 5},\n",
    "'C': {0: 2, 1: 4, 2: 6}\n",
    "})"
   ]
  },
  {
   "cell_type": "code",
   "execution_count": null,
   "id": "1c9ceda5",
   "metadata": {},
   "outputs": [],
   "source": [
    "# Answer:"
   ]
  },
  {
   "cell_type": "markdown",
   "id": "892ce289",
   "metadata": {},
   "source": [
    "### Question 3\n",
    "Question: Slice the Series to return data from 5th to 15th January."
   ]
  },
  {
   "cell_type": "code",
   "execution_count": null,
   "id": "f7e725ad",
   "metadata": {},
   "outputs": [],
   "source": [
    "import pandas as pd\n",
    "import numpy as np\n",
    "\n",
    "dates = pd.date_range(\"2023-01-01\", \"2023-01-31\")\n",
    "data = pd.Series(np.random.rand(len(dates)), index=dates)"
   ]
  },
  {
   "cell_type": "code",
   "execution_count": null,
   "id": "1f1e6e40",
   "metadata": {},
   "outputs": [],
   "source": [
    "# Answer:"
   ]
  },
  {
   "cell_type": "markdown",
   "id": "43d18f91",
   "metadata": {},
   "source": [
    "## Submission\n",
    "- Submit the URL of the GitHub Repository that contains your work to NTU black board.\n",
    "- Should you reference the work of your classmate(s) or online resources, give them credit by adding either the name of your classmate or URL."
   ]
  }
 ],
 "metadata": {
  "kernelspec": {
   "display_name": "pds",
   "language": "python",
   "name": "python3"
  },
  "language_info": {
   "name": "python",
   "version": "3.10.18"
  }
 },
 "nbformat": 4,
 "nbformat_minor": 5
}
